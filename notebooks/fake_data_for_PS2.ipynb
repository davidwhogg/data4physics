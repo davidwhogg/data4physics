{
  "nbformat": 4,
  "nbformat_minor": 0,
  "metadata": {
    "colab": {
      "provenance": [],
      "collapsed_sections": [],
      "authorship_tag": "ABX9TyN3Msr4npasMPPxTEkUyHtj",
      "include_colab_link": true
    },
    "kernelspec": {
      "name": "python3",
      "display_name": "Python 3"
    },
    "language_info": {
      "name": "python"
    }
  },
  "cells": [
    {
      "cell_type": "markdown",
      "metadata": {
        "id": "view-in-github",
        "colab_type": "text"
      },
      "source": [
        "<a href=\"https://colab.research.google.com/github/davidwhogg/data4physics/blob/main/notebooks/fake_data_for_PS2.ipynb\" target=\"_parent\"><img src=\"https://colab.research.google.com/assets/colab-badge.svg\" alt=\"Open In Colab\"/></a>"
      ]
    },
    {
      "cell_type": "markdown",
      "source": [
        "# Fake data for \\#data4physics, Problem Set 2."
      ],
      "metadata": {
        "id": "fS-2_PMLcP_L"
      }
    },
    {
      "cell_type": "code",
      "execution_count": null,
      "metadata": {
        "id": "EqJefSimb_z7"
      },
      "outputs": [],
      "source": [
        "import numpy as np\n",
        "import pylab as plt\n",
        "import pickle as pkl"
      ]
    },
    {
      "cell_type": "code",
      "source": [
        "# set defaults\n",
        "n = 1024\n",
        "period = 100.\n",
        "rng = np.random.default_rng(17)\n",
        "print(rng)"
      ],
      "metadata": {
        "id": "Gx9Ybx95fAiy"
      },
      "execution_count": null,
      "outputs": []
    },
    {
      "cell_type": "code",
      "source": [
        "# make non-uniform time grid\n",
        "times = np.sort(1024. * rng.uniform(size=n))\n",
        "print(times.shape, times[0], times[-1])"
      ],
      "metadata": {
        "id": "U3RD2vaYc12o"
      },
      "execution_count": null,
      "outputs": []
    },
    {
      "cell_type": "code",
      "source": [
        "# make heteroskedastic error bars\n",
        "sigmas = 0.1 + 0.9 * rng.uniform(size=n)\n",
        "print(sigmas.shape, np.min(sigmas), np.max(sigmas))"
      ],
      "metadata": {
        "id": "ZJbV7XYodDSy"
      },
      "execution_count": null,
      "outputs": []
    },
    {
      "cell_type": "code",
      "source": [
        "# make a null data set with no signal\n",
        "ys_null = sigmas * rng.normal(size=n)\n",
        "print(ys_null.shape)"
      ],
      "metadata": {
        "id": "DoUc74q2dGG8"
      },
      "execution_count": null,
      "outputs": []
    },
    {
      "cell_type": "code",
      "source": [
        "# check the null\n",
        "plt.figure(figsize=(15, 5))\n",
        "plt.errorbar(times, ys_null, yerr=sigmas, color=\"k\", marker=\"o\")"
      ],
      "metadata": {
        "id": "gdbUMbdydqrs"
      },
      "execution_count": null,
      "outputs": []
    },
    {
      "cell_type": "code",
      "source": [
        "# make a data block and add a set of example signals of different amplitude\n",
        "ys_block = np.vstack((times, sigmas, ys_null)).T\n",
        "print(ys_block.shape)\n",
        "amps = (0.03, 0.1, 0.3, 1.0, 3.0)\n",
        "for amp in amps:\n",
        "    phi = 2. * np.pi * rng.uniform()\n",
        "    offset = rng.uniform()\n",
        "    ys = offset + amp * np.cos(2. * np.pi * times / period + phi)\n",
        "    ys += sigmas * rng.normal(size=n)\n",
        "    plt.figure(figsize=(15, 5))\n",
        "    plt.errorbar(times, ys, yerr=sigmas, color=\"k\", marker=\"o\")\n",
        "    ys_block = np.concatenate((ys_block, ys[:, None]), axis=1)\n",
        "print(ys_block.shape)"
      ],
      "metadata": {
        "id": "KS962Yqhd5N9"
      },
      "execution_count": null,
      "outputs": []
    },
    {
      "cell_type": "code",
      "source": [
        "# add some additional signals just to be annoying\n",
        "for amp in amps:\n",
        "    phi = 2. * np.pi * rng.uniform()\n",
        "    period2 = 3. + 297. * rng.uniform()\n",
        "    amp2 = rng.uniform()\n",
        "    offset = rng.uniform()\n",
        "    ys = offset + amp * np.cos(2. * np.pi * times / period + phi)\n",
        "    ys += amp2 * np.cos(2. * np.pi * times / period2 + phi)\n",
        "    ys += sigmas * rng.normal(size=n)\n",
        "    plt.figure(figsize=(15, 5))\n",
        "    plt.errorbar(times, ys, yerr=sigmas, color=\"k\", marker=\"o\")\n",
        "    ys_block = np.concatenate((ys_block, ys[:, None]), axis=1)\n",
        "print(ys_block.shape)"
      ],
      "metadata": {
        "id": "mPvlfJ6MfVes"
      },
      "execution_count": null,
      "outputs": []
    },
    {
      "cell_type": "code",
      "source": [
        "with open(\"data.pkl\", \"wb\") as handle:\n",
        "    pkl.dump(ys_block, handle, protocol=pkl.HIGHEST_PROTOCOL)"
      ],
      "metadata": {
        "id": "MhDrOcwsisR1"
      },
      "execution_count": null,
      "outputs": []
    },
    {
      "cell_type": "code",
      "source": [],
      "metadata": {
        "id": "kpX-27JMkOpu"
      },
      "execution_count": null,
      "outputs": []
    }
  ]
}